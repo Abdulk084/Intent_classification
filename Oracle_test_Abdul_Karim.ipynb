{
 "cells": [
  {
   "cell_type": "code",
   "execution_count": 269,
   "metadata": {},
   "outputs": [],
   "source": [
    "\n",
    "\"\"\"\n",
    "Loading packages \n",
    "\"\"\"\n",
    "\n",
    "\n",
    "import pandas as pd\n",
    "import seaborn as sns\n",
    "import matplotlib.pyplot as plt\n",
    "import numpy as np\n",
    "import datetime as dt\n",
    "import seaborn as sn\n",
    "\n",
    "%matplotlib inline\n",
    "\n",
    "plt.style.use('bmh')\n",
    "\n",
    "import re, json, requests\n",
    "from random import sample\n",
    "import os\n",
    "import math\n",
    "import datetime\n",
    "\n",
    "from tqdm import tqdm\n",
    "\n",
    "import pandas as pd\n",
    "import numpy as np\n",
    "\n",
    "import tensorflow as tf\n",
    "from tensorflow import keras\n",
    "\n",
    "import bert\n",
    "from bert import BertModelLayer\n",
    "from bert.loader import StockBertConfig, map_stock_config_to_params, load_stock_weights\n",
    "from bert.tokenization.bert_tokenization import FullTokenizer\n",
    "\n",
    "import seaborn as sns\n",
    "from pylab import rcParams\n",
    "import matplotlib.pyplot as plt\n",
    "from matplotlib.ticker import MaxNLocator\n",
    "from matplotlib import rc\n",
    "\n",
    "from sklearn.metrics import confusion_matrix, classification_report\n",
    "\n",
    "%matplotlib inline\n",
    "%config InlineBackend.figure_format='retina'\n",
    "\n",
    "sns.set(style='whitegrid', palette='muted', font_scale=1.2)\n",
    "\n",
    "HAPPY_COLORS_PALETTE = [\"#01BEFE\", \"#FFDD00\", \"#FF7D00\", \"#FF006D\", \"#ADFF02\", \"#8F00FF\"]\n",
    "\n",
    "sns.set_palette(sns.color_palette(HAPPY_COLORS_PALETTE))\n",
    "\n",
    "rcParams['figure.figsize'] = 12, 8\n",
    "\n",
    "RANDOM_SEED = 42\n",
    "\n",
    "np.random.seed(RANDOM_SEED)\n",
    "tf.random.set_seed(RANDOM_SEED)\n",
    "\n",
    "import numpy as np # linear algebra\n",
    "import pandas as pd # data processing, CSV file I/O (e.g. pd.read_csv)\n",
    "import json\n",
    "import os\n",
    "from sklearn.metrics import roc_curve\n",
    "from sklearn.metrics import accuracy_score\n",
    "from sklearn.model_selection import train_test_split\n",
    "from tensorflow.keras.utils import to_categorical\n",
    "from tensorflow.keras.models import Sequential, Model\n",
    "from tensorflow.keras.layers import Input, Dense, Embedding, Activation, LSTM, SimpleRNN, Dropout\n",
    "from tensorflow.keras.optimizers import Adam\n",
    "from tensorflow.keras.preprocessing.text import Tokenizer\n",
    "from tensorflow.keras.preprocessing.sequence import pad_sequences\n",
    "import bert\n",
    "from tqdm import tqdm\n",
    "from tensorflow.keras import backend as K\n",
    "import tensorflow as tf\n",
    "\n",
    "print(\"TensorFlow Version:\",tf.__version__)\n",
    "print(\"Keras Version:\",keras.__version__)\n",
    "# Params for bert model and tokenization\n"
   ]
  },
  {
   "cell_type": "code",
   "execution_count": 270,
   "metadata": {},
   "outputs": [],
   "source": []
  },
  {
   "cell_type": "code",
   "execution_count": 318,
   "metadata": {},
   "outputs": [
    {
     "name": "stdout",
     "output_type": "stream",
     "text": [
      "TensorFlow Version: 2.3.0\n",
      "Keras Version: 2.4.0\n"
     ]
    }
   ],
   "source": []
  },
  {
   "cell_type": "code",
   "execution_count": null,
   "metadata": {},
   "outputs": [],
   "source": []
  },
  {
   "cell_type": "code",
   "execution_count": 272,
   "metadata": {},
   "outputs": [],
   "source": [
    " \"\"\"   \n",
    " Loading JSON imbalanced data set directly diretly from the GitHub \n",
    " \n",
    " \n",
    "\"\"\"\n",
    "    \n",
    "url = 'https://raw.githubusercontent.com/clinc/oos-eval/master/data/data_imbalanced.json'\n",
    " resp = requests.get(url)\n",
    " data = json.loads(resp.text)\n"
   ]
  },
  {
   "cell_type": "code",
   "execution_count": 273,
   "metadata": {},
   "outputs": [
    {
     "data": {
      "text/plain": [
       "dict_keys(['oos_val', 'val', 'train', 'oos_test', 'test', 'oos_train'])"
      ]
     },
     "execution_count": 273,
     "metadata": {},
     "output_type": "execute_result"
    }
   ],
   "source": [
    "\"\"\"\n",
    "Cheking keys to understand what data is there\n",
    "\"\"\"\n",
    "\n",
    "data.keys()"
   ]
  },
  {
   "cell_type": "code",
   "execution_count": 274,
   "metadata": {},
   "outputs": [
    {
     "name": "stdout",
     "output_type": "stream",
     "text": [
      "Sample from train\n",
      " \n",
      "[[\"i was at trader joe's trying to buy groceries and my card got declined\", 'card_declined'], ['will you roll a 6 sided dice', 'roll_dice'], [\"i just traveled on american airlines flight ab123 out of dallas i can't find my luggage\", 'lost_luggage'], ['i am going to be traveling in turkey, are there any alerts', 'travel_alert'], ['can you slow your speaking down', 'change_speed'], ['can you tell me which timezone is cambodia in', 'timezone'], ['any travel advisories for portugal', 'travel_alert'], ['give me all contents of my shopping list', 'shopping_list'], ['tell me what the traffic is like on the way to phoenix', 'traffic'], ['how do i say hello in french', 'translate']]\n",
      " \n",
      "size of train 10525\n"
     ]
    }
   ],
   "source": [
    "\n",
    "print(\"Sample from train\")\n",
    "print(\" \")\n",
    "#print(data['val'][0:10])\n",
    "print(sample(data['train'],10))\n",
    "\n",
    "print(\" \")\n",
    "print(\"size of train \"+str(len(data['train'])))\n",
    "\n",
    "\n",
    "train_arr_np = np.asarray(data['train'])\n",
    "\n",
    "train_pd= pd.DataFrame(train_arr_np, columns=['sentence', 'intent']) "
   ]
  },
  {
   "cell_type": "code",
   "execution_count": 275,
   "metadata": {},
   "outputs": [
    {
     "name": "stdout",
     "output_type": "stream",
     "text": [
      "Sample from validation\n",
      " \n",
      "[['how much air pressure is in my tires', 'tire_pressure'], ['forget reservation at oyster bar for tonight', 'cancel_reservation'], [\"i'm not sure how to jump start a car; can you help me\", 'jump_start'], ['in a fried egg, how many calories are there', 'calories'], ['remind me to call my mom', 'reminder_update'], ['what does idiosyncratic mean', 'definition'], ['can you find me an uber and have it here at 7pm', 'uber'], ['tell me something to make me laugh', 'tell_joke'], ['how old were you on your most recent birthday', 'how_old_are_you'], ['can you please turn your volume down', 'change_volume']]\n",
      " \n",
      "size of validation 3000\n"
     ]
    }
   ],
   "source": [
    "\n",
    "print(\"Sample from validation\")\n",
    "print(\" \")\n",
    "#print(data['val'][0:10])\n",
    "print(sample(data['val'],10))\n",
    "\n",
    "print(\" \")\n",
    "print(\"size of validation \"+str(len(data['val'])))\n",
    "\n",
    "val_arr_np = np.asarray(data['val'])\n",
    "val_pd= pd.DataFrame(val_arr_np, columns=['sentence', 'intent']) "
   ]
  },
  {
   "cell_type": "code",
   "execution_count": 276,
   "metadata": {},
   "outputs": [
    {
     "name": "stdout",
     "output_type": "stream",
     "text": [
      "Sample from test\n",
      " \n",
      "[['when is my meeting with jack for', 'meeting_schedule'], [\"i'm looking for a meal that's from the asian cuisine\", 'meal_suggestion'], ['my account at the bank needs to be frozen', 'freeze_account'], ['tell me about the pets you have', 'do_you_have_pets'], ['are there meetings from 1 to 5 pm', 'meeting_schedule'], ['state recent transaction', 'transactions'], ['what time is it in california', 'time'], ['what does serendipity mean', 'definition'], ['will my fico score decrease if i increase my student loan debt', 'improve_credit_score'], ['i want to know if i will be safe if i travel to europe', 'travel_alert']]\n",
      " \n",
      "size of test 4500\n"
     ]
    }
   ],
   "source": [
    "\n",
    "print(\"Sample from test\")\n",
    "print(\" \")\n",
    "#print(data['val'][0:10])\n",
    "print(sample(data['test'],10))\n",
    "\n",
    "print(\" \")\n",
    "print(\"size of test \"+str(len(data['test'])))\n",
    "\n",
    "test_arr_np = np.asarray(data['test'])\n",
    "test_pd= pd.DataFrame(test_arr_np, columns=['sentence', 'intent']) "
   ]
  },
  {
   "cell_type": "code",
   "execution_count": null,
   "metadata": {},
   "outputs": [],
   "source": []
  },
  {
   "cell_type": "code",
   "execution_count": null,
   "metadata": {},
   "outputs": [],
   "source": []
  },
  {
   "cell_type": "code",
   "execution_count": 277,
   "metadata": {},
   "outputs": [
    {
     "name": "stdout",
     "output_type": "stream",
     "text": [
      "tire_change           100\n",
      "current_location      100\n",
      "order                 100\n",
      "traffic               100\n",
      "gas_type              100\n",
      "                     ... \n",
      "application_status     25\n",
      "freeze_account         25\n",
      "bill_balance           25\n",
      "redeem_rewards         25\n",
      "report_fraud           25\n",
      "Name: intent, Length: 150, dtype: int64\n"
     ]
    },
    {
     "data": {
      "text/plain": [
       "'\\n\\nTHIS SHOWS THE SENTENCES PER INTENT ARE IMBALANCED.\\n\\nTOTAL OF 150 INTENT CLASSES\\n\\n'"
      ]
     },
     "execution_count": 277,
     "metadata": {},
     "output_type": "execute_result"
    }
   ],
   "source": [
    "type_counts_train = train_pd['intent'].value_counts()\n",
    "\n",
    "print(type_counts_train)\n",
    "\n",
    "\"\"\"\n",
    "\n",
    "THIS SHOWS THE SENTENCES PER INTENT ARE IMBALANCED.\n",
    "\n",
    "TOTAL OF 150 INTENT CLASSES\n",
    "\n",
    "\"\"\"\n",
    "\n"
   ]
  },
  {
   "cell_type": "code",
   "execution_count": 278,
   "metadata": {},
   "outputs": [
    {
     "name": "stdout",
     "output_type": "stream",
     "text": [
      "tire_change         20\n",
      "oil_change_how      20\n",
      "reset_settings      20\n",
      "direct_deposit      20\n",
      "next_holiday        20\n",
      "                    ..\n",
      "order_status        20\n",
      "transfer            20\n",
      "gas                 20\n",
      "schedule_meeting    20\n",
      "fun_fact            20\n",
      "Name: intent, Length: 150, dtype: int64\n"
     ]
    }
   ],
   "source": [
    "type_counts_val = val_pd['intent'].value_counts()\n",
    "\n",
    "print(type_counts_val)"
   ]
  },
  {
   "cell_type": "code",
   "execution_count": 279,
   "metadata": {},
   "outputs": [
    {
     "name": "stdout",
     "output_type": "stream",
     "text": [
      "tire_change         30\n",
      "oil_change_how      30\n",
      "reset_settings      30\n",
      "direct_deposit      30\n",
      "next_holiday        30\n",
      "                    ..\n",
      "order_status        30\n",
      "transfer            30\n",
      "gas                 30\n",
      "schedule_meeting    30\n",
      "fun_fact            30\n",
      "Name: intent, Length: 150, dtype: int64\n"
     ]
    }
   ],
   "source": [
    "type_counts = test_pd['intent'].value_counts()\n",
    "\n",
    "print(type_counts)"
   ]
  },
  {
   "cell_type": "code",
   "execution_count": 280,
   "metadata": {},
   "outputs": [
    {
     "name": "stdout",
     "output_type": "stream",
     "text": [
      "Sample from oos_train\n",
      " \n",
      "[['how can i get involved in restaurant marketing', 'oos'], ['can you tell me something about the nfl', 'oos'], ['what animals have alpha males', 'oos'], ['what time does the louvre open', 'oos'], ['how much is an overdraft fee for bank', 'oos'], ['how expensive is an apple share', 'oos'], [\"who's toledo's starting point guard for the next game\", 'oos'], ['when was nintendo created', 'oos'], ['when was toyota created', 'oos'], ['are any justice league movies coming out', 'oos']]\n",
      " \n",
      "size of oos_train 100\n"
     ]
    }
   ],
   "source": [
    "print(\"Sample from oos_train\")\n",
    "print(\" \")\n",
    "#print(data['val'][0:10])\n",
    "print(sample(data['oos_train'],10))\n",
    "\n",
    "print(\" \")\n",
    "print(\"size of oos_train \"+str(len(data['oos_train'])))\n",
    "\n",
    "\n",
    "train_arr_np_oos = np.asarray(data['oos_train'])\n",
    "\n",
    "train_pd_oos= pd.DataFrame(train_arr_np_oos, columns=['sentence', 'intent']) "
   ]
  },
  {
   "cell_type": "code",
   "execution_count": 281,
   "metadata": {},
   "outputs": [
    {
     "name": "stdout",
     "output_type": "stream",
     "text": [
      "Sample from oos_val\n",
      " \n",
      "[['do ducks sleep', 'oos'], ['how do you know when your dog is ill', 'oos'], ['what university in the united states offers the best biomedical engineering program', 'oos'], ['how many firewalls should i have and what type', 'oos'], ['what is the purpose or benefit of a cash advance', 'oos'], ['what is the friendliest breed', 'oos'], ['what is naval engineering', 'oos'], ['show me the channel guide', 'oos'], ['king of acid', 'oos'], ['are there any new companies to look out for', 'oos']]\n",
      " \n",
      "size of oos_val 100\n"
     ]
    }
   ],
   "source": [
    "print(\"Sample from oos_val\")\n",
    "print(\" \")\n",
    "#print(data['val'][0:10])\n",
    "print(sample(data['oos_val'],10))\n",
    "\n",
    "print(\" \")\n",
    "print(\"size of oos_val \"+str(len(data['oos_val'])))\n",
    "\n",
    "\n",
    "val_arr_np_oos = np.asarray(data['oos_val'])\n",
    "\n",
    "val_pd_oos= pd.DataFrame(val_arr_np_oos, columns=['sentence', 'intent']) "
   ]
  },
  {
   "cell_type": "code",
   "execution_count": 282,
   "metadata": {},
   "outputs": [
    {
     "name": "stdout",
     "output_type": "stream",
     "text": [
      "Sample from oos_test\n",
      " \n",
      "[['look up daily dog kennels in my area', 'oos'], ['how to be millionare', 'oos'], [\"what do you do all day while i'm at work\", 'oos'], ['where does jelly come from', 'oos'], ['change color contrast', 'oos'], ['how do i get stains out of the carpet', 'oos'], ['can you tell me what the best places are to look for a job online', 'oos'], ['show me a list of top rated airlines', 'oos'], ['get me a list of universities that provide full scholarships in arizona', 'oos'], ['are we allowed to wash our cars during the drought', 'oos']]\n",
      " \n",
      "size of oos_test 1000\n"
     ]
    }
   ],
   "source": [
    "print(\"Sample from oos_test\")\n",
    "print(\" \")\n",
    "#print(data['val'][0:10])\n",
    "print(sample(data['oos_test'],10))\n",
    "\n",
    "print(\" \")\n",
    "print(\"size of oos_test \"+str(len(data['oos_test'])))\n",
    "\n",
    "\n",
    "test_arr_np_oos = np.asarray(data['oos_test'])\n",
    "\n",
    "test_pd_oos= pd.DataFrame(test_arr_np_oos, columns=['sentence', 'intent']) "
   ]
  },
  {
   "cell_type": "code",
   "execution_count": 283,
   "metadata": {},
   "outputs": [
    {
     "name": "stdout",
     "output_type": "stream",
     "text": [
      "train nan check: sentence    0\n",
      "intent      0\n",
      "dtype: int64\n",
      " \n",
      "test nan check: sentence    0\n",
      "intent      0\n",
      "dtype: int64\n",
      " \n",
      "val nan check: sentence    0\n",
      "intent      0\n",
      "dtype: int64\n",
      " \n",
      "train_oos nan check: sentence    0\n",
      "intent      0\n",
      "dtype: int64\n",
      " \n",
      "test_oos nan check: sentence    0\n",
      "intent      0\n",
      "dtype: int64\n",
      " \n",
      "val_oos nan check: sentence    0\n",
      "intent      0\n",
      "dtype: int64\n"
     ]
    }
   ],
   "source": [
    "\n",
    "\"\"\"\n",
    "Finding if any nan values in any of the dataset sentences or intent column\n",
    "\n",
    "\n",
    "\"\"\"\n",
    "\n",
    "print(\"train nan check: \"+str(train_pd.isna().sum()))\n",
    "print(\" \")\n",
    "print(\"test nan check: \"+str(test_pd.isna().sum()))\n",
    "print(\" \")\n",
    "print(\"val nan check: \"+str(val_pd.isna().sum()))\n",
    "print(\" \")\n",
    "print(\"train_oos nan check: \"+str(train_pd_oos.isna().sum()))\n",
    "print(\" \")\n",
    "print(\"test_oos nan check: \"+str(test_pd_oos.isna().sum()))\n",
    "print(\" \")\n",
    "print(\"val_oos nan check: \"+str(val_pd_oos.isna().sum()))"
   ]
  },
  {
   "cell_type": "code",
   "execution_count": null,
   "metadata": {},
   "outputs": [],
   "source": []
  },
  {
   "cell_type": "code",
   "execution_count": 284,
   "metadata": {},
   "outputs": [
    {
     "data": {
      "text/plain": [
       "'\\nAS PER THE OOS-TRAIN PROCEDURE, WE WILL TAKE OOS AS 151th Intent. For that, we combine \\n\\nthe respevtive train, with train-oss, test with test-oos and val with val-oos\\n'"
      ]
     },
     "execution_count": 284,
     "metadata": {},
     "output_type": "execute_result"
    }
   ],
   "source": [
    "\"\"\"\n",
    "AS PER THE OOS-TRAIN PROCEDURE, WE WILL TAKE OOS AS 151th Intent. For that, we combine \n",
    "\n",
    "the respevtive train, with train-oss, test with test-oos and val with val-oos\n",
    "\"\"\""
   ]
  },
  {
   "cell_type": "code",
   "execution_count": 285,
   "metadata": {},
   "outputs": [],
   "source": [
    "\"\"\"\n",
    "  Train Conacte \n",
    "\"\"\"\n",
    "\n",
    "frames_train=[train_pd, train_pd_oos]\n",
    "\n",
    "train=pd.concat(frames_train)"
   ]
  },
  {
   "cell_type": "code",
   "execution_count": 286,
   "metadata": {},
   "outputs": [],
   "source": [
    "\"\"\"\n",
    "  valid Conacte \n",
    "\"\"\"\n",
    "\n",
    "\n",
    "\n",
    "frames_val=[val_pd, val_pd_oos]\n",
    "\n",
    "val=pd.concat(frames_val)"
   ]
  },
  {
   "cell_type": "code",
   "execution_count": 287,
   "metadata": {},
   "outputs": [],
   "source": [
    "\"\"\"\n",
    "  test Conacte \n",
    "\"\"\"\n",
    "\n",
    "\n",
    "\n",
    "frames_test=[test_pd, test_pd_oos]\n",
    "\n",
    "test=pd.concat(frames_test)"
   ]
  },
  {
   "cell_type": "code",
   "execution_count": null,
   "metadata": {},
   "outputs": [],
   "source": []
  },
  {
   "cell_type": "code",
   "execution_count": null,
   "metadata": {},
   "outputs": [],
   "source": []
  },
  {
   "cell_type": "code",
   "execution_count": 288,
   "metadata": {},
   "outputs": [
    {
     "name": "stdout",
     "output_type": "stream",
     "text": [
      "--2020-10-17 19:39:46--  https://storage.googleapis.com/bert_models/2018_10_18/uncased_L-12_H-768_A-12.zip\n",
      "Resolving storage.googleapis.com (storage.googleapis.com)... 216.58.196.144, 172.217.167.80, 142.250.66.240, ...\n",
      "Connecting to storage.googleapis.com (storage.googleapis.com)|216.58.196.144|:443... connected.\n",
      "HTTP request sent, awaiting response... 200 OK\n",
      "Length: 407727028 (389M) [application/zip]\n",
      "Saving to: 'uncased_L-12_H-768_A-12.zip.1’\n",
      "\n",
      "uncased_L-12_H-768_ 100%[===================>] 388.84M  53.8MB/s    in 15s     \n",
      "\n",
      "2020-10-17 19:40:02 (26.8 MB/s) - 'uncased_L-12_H-768_A-12.zip.1’ saved [407727028/407727028]\n",
      "\n"
     ]
    }
   ],
   "source": [
    "\"\"\"\n",
    "Downloading Bert Simple moodel\n",
    "\n",
    "\"\"\"\n",
    "\n",
    "\n",
    "!wget https://storage.googleapis.com/bert_models/2018_10_18/uncased_L-12_H-768_A-12.zip"
   ]
  },
  {
   "cell_type": "code",
   "execution_count": 289,
   "metadata": {},
   "outputs": [
    {
     "name": "stdout",
     "output_type": "stream",
     "text": [
      "Archive:  uncased_L-12_H-768_A-12.zip\n",
      "   creating: uncased_L-12_H-768_A-12/\n",
      "  inflating: uncased_L-12_H-768_A-12/bert_model.ckpt.meta  \n",
      "  inflating: uncased_L-12_H-768_A-12/bert_model.ckpt.data-00000-of-00001  \n",
      "  inflating: uncased_L-12_H-768_A-12/vocab.txt  \n",
      "  inflating: uncased_L-12_H-768_A-12/bert_model.ckpt.index  \n",
      "  inflating: uncased_L-12_H-768_A-12/bert_config.json  \n"
     ]
    }
   ],
   "source": [
    "\"\"\"\n",
    "Unzipping the model\n",
    "\n",
    "\"\"\"\n",
    "\n",
    "\n",
    "!unzip uncased_L-12_H-768_A-12.zip"
   ]
  },
  {
   "cell_type": "code",
   "execution_count": 290,
   "metadata": {},
   "outputs": [],
   "source": [
    "\"\"\"\n",
    "Making a directory with a name model\n",
    "\n",
    "\"\"\"\n",
    "\n",
    "\n",
    "\n",
    "\n",
    "os.makedirs(\"model\", exist_ok=True)"
   ]
  },
  {
   "cell_type": "code",
   "execution_count": 291,
   "metadata": {},
   "outputs": [
    {
     "name": "stdout",
     "output_type": "stream",
     "text": [
      "mv: cannot move 'uncased_L-12_H-768_A-12/' to 'model/uncased_L-12_H-768_A-12': Directory not empty\r\n"
     ]
    }
   ],
   "source": [
    "\"\"\"\n",
    "Moving  the dowmloaded BERT model in model directory\n",
    "\n",
    "\"\"\"\n",
    "\n",
    "\n",
    "\n",
    "!mv uncased_L-12_H-768_A-12/ model"
   ]
  },
  {
   "cell_type": "code",
   "execution_count": 292,
   "metadata": {},
   "outputs": [],
   "source": [
    "\"\"\"\n",
    "Assigning paths for model loading with trainied weights and saving the model\n",
    "after fine tuning\n",
    "\n",
    "\"\"\"\n",
    "\n",
    "\n",
    "bert_model_name=\"uncased_L-12_H-768_A-12\"\n",
    "\n",
    "bert_ckpt_dir = os.path.join(\"model/\", bert_model_name)\n",
    "bert_ckpt_file = os.path.join(bert_ckpt_dir, \"bert_model.ckpt\")\n",
    "bert_config_file = os.path.join(bert_ckpt_dir, \"bert_config.json\")"
   ]
  },
  {
   "cell_type": "code",
   "execution_count": 293,
   "metadata": {},
   "outputs": [],
   "source": [
    "\n",
    "\"\"\"\n",
    "This class use BERT tokenzer to create tokens for each stence in all\n",
    "\n",
    "three data sets. It also appends shorter sentences to the maximum length sentence\n",
    "\n",
    "which is 33 and adds start and end of the sentence token\n",
    "\n",
    "\"\"\"\n",
    "\n",
    "\n",
    "\n",
    "\n",
    "class IntentDetectionData:\n",
    "  DATA_COLUMN = \"sentence\"\n",
    "  LABEL_COLUMN = \"intent\"\n",
    "\n",
    "  def __init__(self, train, val,test, tokenizer: FullTokenizer, classes, max_seq_len=192):\n",
    "    self.tokenizer = tokenizer\n",
    "    self.max_seq_len = 0\n",
    "    self.classes = classes\n",
    "    \n",
    "    ((self.train_x, self.train_y),(self.val_x, self.val_y), (self.test_x, self.test_y)) = map(self._prepare, [train,val,  test])\n",
    "\n",
    "    print(\"max seq_len\", self.max_seq_len)\n",
    "    self.max_seq_len = min(self.max_seq_len, max_seq_len)\n",
    "    self.train_x, self.val_x, self.test_x = map(self._pad, [self.train_x, self.val_x, self.test_x])\n",
    "\n",
    "  def _prepare(self, df):\n",
    "    x, y = [], []\n",
    "    \n",
    "    for _, row in tqdm(df.iterrows()):\n",
    "      text, label = row[IntentDetectionData.DATA_COLUMN], row[IntentDetectionData.LABEL_COLUMN]\n",
    "      tokens = self.tokenizer.tokenize(text)\n",
    "      tokens = [\"[CLS]\"] + tokens + [\"[SEP]\"]\n",
    "      token_ids = self.tokenizer.convert_tokens_to_ids(tokens)\n",
    "      self.max_seq_len = max(self.max_seq_len, len(token_ids))\n",
    "      x.append(token_ids)\n",
    "      y.append(self.classes.index(label))\n",
    "\n",
    "    return np.array(x), np.array(y)\n",
    "\n",
    "  def _pad(self, ids):\n",
    "    x = []\n",
    "    for input_ids in ids:\n",
    "      input_ids = input_ids[:min(len(input_ids), self.max_seq_len - 2)]\n",
    "      input_ids = input_ids + [0] * (self.max_seq_len - len(input_ids))\n",
    "      x.append(np.array(input_ids))\n",
    "    return np.array(x)"
   ]
  },
  {
   "cell_type": "code",
   "execution_count": 294,
   "metadata": {},
   "outputs": [],
   "source": [
    "\n",
    "\n",
    "tokenizer = FullTokenizer(vocab_file=os.path.join(bert_ckpt_dir, \"vocab.txt\"))"
   ]
  },
  {
   "cell_type": "code",
   "execution_count": 295,
   "metadata": {},
   "outputs": [],
   "source": [
    "\"\"\"\n",
    "LOading BERT model and adding one more fully connected layer with drop out\n",
    "\n",
    "at end output\n",
    "\n",
    "\"\"\"\n",
    "\n",
    "\n",
    "\n",
    "\n",
    "\n",
    "def create_model(max_seq_len, bert_ckpt_file):\n",
    "\n",
    "  with tf.io.gfile.GFile(bert_config_file, \"r\") as reader:\n",
    "      bc = StockBertConfig.from_json_string(reader.read())\n",
    "      bert_params = map_stock_config_to_params(bc)\n",
    "      bert_params.adapter_size = None\n",
    "      bert = BertModelLayer.from_params(bert_params, name=\"bert\")\n",
    "        \n",
    "  input_ids = keras.layers.Input(shape=(max_seq_len, ), dtype='int32', name=\"input_ids\")\n",
    "  bert_output = bert(input_ids)\n",
    "\n",
    "  print(\"bert shape\", bert_output.shape)\n",
    "\n",
    "  cls_out = keras.layers.Lambda(lambda seq: seq[:, 0, :])(bert_output)\n",
    "  cls_out = keras.layers.Dropout(0.5)(cls_out)\n",
    "  logits = keras.layers.Dense(units=768, activation=\"tanh\")(cls_out)\n",
    "  logits = keras.layers.Dropout(0.5)(logits)\n",
    "  logits = keras.layers.Dense(units=len(classes), activation=\"softmax\")(logits)\n",
    "\n",
    "  model = keras.Model(inputs=input_ids, outputs=logits)\n",
    "  model.build(input_shape=(None, max_seq_len))\n",
    "\n",
    "  load_stock_weights(bert, bert_ckpt_file)\n",
    "        \n",
    "  return model"
   ]
  },
  {
   "cell_type": "code",
   "execution_count": 296,
   "metadata": {},
   "outputs": [
    {
     "name": "stderr",
     "output_type": "stream",
     "text": [
      "10625it [00:01, 6439.75it/s]\n",
      "<ipython-input-293-36d7e455bb91>:28: VisibleDeprecationWarning: Creating an ndarray from ragged nested sequences (which is a list-or-tuple of lists-or-tuples-or ndarrays with different lengths or shapes) is deprecated. If you meant to do this, you must specify 'dtype=object' when creating the ndarray\n",
      "  return np.array(x), np.array(y)\n",
      "3100it [00:01, 2525.22it/s]\n",
      "5500it [00:00, 6441.65it/s]\n"
     ]
    },
    {
     "name": "stdout",
     "output_type": "stream",
     "text": [
      "max seq_len 33\n"
     ]
    }
   ],
   "source": [
    "\n",
    "\n",
    "\n",
    "\n",
    "classes = train.intent.unique().tolist()\n",
    "\n",
    "data = IntentDetectionData(train, val,test, tokenizer, classes, max_seq_len=128)"
   ]
  },
  {
   "cell_type": "code",
   "execution_count": 297,
   "metadata": {},
   "outputs": [
    {
     "data": {
      "text/plain": [
       "['direct_deposit',\n",
       " 'carry_on',\n",
       " 'whisper_mode',\n",
       " 'text',\n",
       " 'recipe',\n",
       " 'smart_home',\n",
       " 'who_do_you_work_for',\n",
       " 'rewards_balance',\n",
       " 'restaurant_reservation',\n",
       " 'travel_notification',\n",
       " 'update_playlist',\n",
       " 'change_volume',\n",
       " 'routing',\n",
       " 'mpg',\n",
       " 'bill_balance',\n",
       " 'do_you_have_pets',\n",
       " 'cook_time',\n",
       " 'what_song',\n",
       " 'new_card',\n",
       " 'todo_list_update',\n",
       " 'traffic',\n",
       " 'next_song',\n",
       " 'where_are_you_from',\n",
       " 'tire_change',\n",
       " 'bill_due',\n",
       " 'greeting',\n",
       " 'taxes',\n",
       " 'lost_luggage',\n",
       " 'change_accent',\n",
       " 'todo_list',\n",
       " 'last_maintenance',\n",
       " 'make_call',\n",
       " 'gas_type',\n",
       " 'cancel_reservation',\n",
       " 'schedule_meeting',\n",
       " 'find_phone',\n",
       " 'insurance_change',\n",
       " 'improve_credit_score',\n",
       " 'travel_suggestion',\n",
       " 'roll_dice',\n",
       " 'repeat',\n",
       " 'play_music',\n",
       " 'are_you_a_bot',\n",
       " 'sync_device',\n",
       " 'calendar',\n",
       " 'insurance',\n",
       " 'international_visa',\n",
       " 'freeze_account',\n",
       " 'shopping_list',\n",
       " 'oil_change_when',\n",
       " 'share_location',\n",
       " 'what_can_i_ask_you',\n",
       " 'plug_type',\n",
       " 'vaccines',\n",
       " 'payday',\n",
       " 'application_status',\n",
       " 'next_holiday',\n",
       " 'tell_joke',\n",
       " 'ingredient_substitution',\n",
       " 'calendar_update',\n",
       " 'how_old_are_you',\n",
       " 'directions',\n",
       " 'definition',\n",
       " 'rollover_401k',\n",
       " 'pto_request_status',\n",
       " 'confirm_reservation',\n",
       " 'expiration_date',\n",
       " 'calories',\n",
       " 'timer',\n",
       " 'transfer',\n",
       " 'book_flight',\n",
       " 'change_ai_name',\n",
       " 'apr',\n",
       " 'accept_reservations',\n",
       " 'exchange_rate',\n",
       " 'pay_bill',\n",
       " 'weather',\n",
       " 'current_location',\n",
       " 'cancel',\n",
       " 'restaurant_reviews',\n",
       " 'pin_change',\n",
       " 'account_blocked',\n",
       " 'what_are_your_hobbies',\n",
       " 'oil_change_how',\n",
       " 'reminder_update',\n",
       " 'car_rental',\n",
       " 'pto_balance',\n",
       " 'translate',\n",
       " 'user_name',\n",
       " 'how_busy',\n",
       " 'yes',\n",
       " 'replacement_card_duration',\n",
       " 'what_is_your_name',\n",
       " 'gas',\n",
       " 'tire_pressure',\n",
       " 'thank_you',\n",
       " 'pto_request',\n",
       " 'meal_suggestion',\n",
       " 'fun_fact',\n",
       " 'nutrition_info',\n",
       " 'card_declined',\n",
       " 'ingredients_list',\n",
       " 'distance',\n",
       " 'book_hotel',\n",
       " 'travel_alert',\n",
       " 'damaged_card',\n",
       " 'flip_coin',\n",
       " 'restaurant_suggestion',\n",
       " 'min_payment',\n",
       " 'balance',\n",
       " 'measurement_conversion',\n",
       " 'w2',\n",
       " 'uber',\n",
       " 'shopping_list_update',\n",
       " 'change_user_name',\n",
       " 'calculator',\n",
       " 'order_status',\n",
       " 'food_last',\n",
       " 'reset_settings',\n",
       " 'meeting_schedule',\n",
       " 'timezone',\n",
       " 'order_checks',\n",
       " 'spending_history',\n",
       " 'report_fraud',\n",
       " 'jump_start',\n",
       " 'no',\n",
       " 'who_made_you',\n",
       " 'interest_rate',\n",
       " 'report_lost_card',\n",
       " 'international_fees',\n",
       " 'income',\n",
       " 'reminder',\n",
       " 'change_speed',\n",
       " 'redeem_rewards',\n",
       " 'change_language',\n",
       " 'transactions',\n",
       " 'schedule_maintenance',\n",
       " 'date',\n",
       " 'pto_used',\n",
       " 'spelling',\n",
       " 'meaning_of_life',\n",
       " 'flight_status',\n",
       " 'credit_limit',\n",
       " 'maybe',\n",
       " 'alarm',\n",
       " 'credit_score',\n",
       " 'goodbye',\n",
       " 'time',\n",
       " 'order',\n",
       " 'credit_limit_change',\n",
       " 'oos']"
      ]
     },
     "execution_count": 297,
     "metadata": {},
     "output_type": "execute_result"
    }
   ],
   "source": [
    "classes"
   ]
  },
  {
   "cell_type": "code",
   "execution_count": 298,
   "metadata": {},
   "outputs": [
    {
     "data": {
      "text/plain": [
       "(10625, 33)"
      ]
     },
     "execution_count": 298,
     "metadata": {},
     "output_type": "execute_result"
    }
   ],
   "source": [
    "data.train_x.shape"
   ]
  },
  {
   "cell_type": "code",
   "execution_count": 299,
   "metadata": {},
   "outputs": [
    {
     "data": {
      "text/plain": [
       "(10625,)"
      ]
     },
     "execution_count": 299,
     "metadata": {},
     "output_type": "execute_result"
    }
   ],
   "source": [
    "data.train_y.shape"
   ]
  },
  {
   "cell_type": "code",
   "execution_count": 300,
   "metadata": {},
   "outputs": [
    {
     "data": {
      "text/plain": [
       "(5500, 33)"
      ]
     },
     "execution_count": 300,
     "metadata": {},
     "output_type": "execute_result"
    }
   ],
   "source": [
    "data.test_x.shape"
   ]
  },
  {
   "cell_type": "code",
   "execution_count": 301,
   "metadata": {},
   "outputs": [
    {
     "data": {
      "text/plain": [
       "(3100, 33)"
      ]
     },
     "execution_count": 301,
     "metadata": {},
     "output_type": "execute_result"
    }
   ],
   "source": [
    "data.val_x.shape"
   ]
  },
  {
   "cell_type": "code",
   "execution_count": 302,
   "metadata": {},
   "outputs": [
    {
     "data": {
      "text/plain": [
       "33"
      ]
     },
     "execution_count": 302,
     "metadata": {},
     "output_type": "execute_result"
    }
   ],
   "source": [
    "data.max_seq_len"
   ]
  },
  {
   "cell_type": "code",
   "execution_count": 303,
   "metadata": {},
   "outputs": [
    {
     "name": "stderr",
     "output_type": "stream",
     "text": [
      "/home/abdul/anaconda3/envs/tf-gpu/lib/python3.8/site-packages/sklearn/utils/validation.py:68: FutureWarning: Pass classes=[  0   1   2   3   4   5   6   7   8   9  10  11  12  13  14  15  16  17\n",
      "  18  19  20  21  22  23  24  25  26  27  28  29  30  31  32  33  34  35\n",
      "  36  37  38  39  40  41  42  43  44  45  46  47  48  49  50  51  52  53\n",
      "  54  55  56  57  58  59  60  61  62  63  64  65  66  67  68  69  70  71\n",
      "  72  73  74  75  76  77  78  79  80  81  82  83  84  85  86  87  88  89\n",
      "  90  91  92  93  94  95  96  97  98  99 100 101 102 103 104 105 106 107\n",
      " 108 109 110 111 112 113 114 115 116 117 118 119 120 121 122 123 124 125\n",
      " 126 127 128 129 130 131 132 133 134 135 136 137 138 139 140 141 142 143\n",
      " 144 145 146 147 148 149 150], y=[  0   0   0 ... 150 150 150] as keyword args. From version 0.25 passing these as positional arguments will result in an error\n",
      "  warnings.warn(\"Pass {} as keyword args. From version 0.25 \"\n"
     ]
    }
   ],
   "source": [
    "\"\"\"\n",
    "weights for each class intent because of imbalanaced data\n",
    "\n",
    "\"\"\"\n",
    "\n",
    "\n",
    "\n",
    "\n",
    "from sklearn.utils import class_weight\n",
    "class_weights = class_weight.compute_class_weight('balanced',\n",
    "                                                 np.unique(data.train_y),\n",
    "                                                 data.train_y)"
   ]
  },
  {
   "cell_type": "code",
   "execution_count": 304,
   "metadata": {},
   "outputs": [
    {
     "data": {
      "text/plain": [
       "array([1.40728477, 0.70364238, 0.70364238, 1.40728477, 0.93818985,\n",
       "       0.70364238, 0.93818985, 2.81456954, 0.93818985, 0.70364238,\n",
       "       0.70364238, 0.70364238, 2.81456954, 0.70364238, 2.81456954,\n",
       "       0.93818985, 0.93818985, 0.70364238, 2.81456954, 0.70364238,\n",
       "       0.70364238, 0.70364238, 0.93818985, 0.70364238, 2.81456954,\n",
       "       0.93818985, 1.40728477, 0.70364238, 0.70364238, 0.70364238,\n",
       "       0.70364238, 1.40728477, 0.70364238, 0.93818985, 1.40728477,\n",
       "       1.40728477, 1.40728477, 2.81456954, 0.70364238, 1.40728477,\n",
       "       0.70364238, 0.70364238, 0.70364238, 0.70364238, 0.70364238,\n",
       "       1.40728477, 0.70364238, 2.81456954, 0.70364238, 0.70364238,\n",
       "       1.40728477, 0.93818985, 0.70364238, 0.70364238, 1.40728477,\n",
       "       2.81456954, 1.40728477, 0.93818985, 0.93818985, 0.70364238,\n",
       "       0.93818985, 0.70364238, 1.40728477, 1.40728477, 1.40728477,\n",
       "       0.93818985, 2.81456954, 0.93818985, 1.40728477, 2.81456954,\n",
       "       0.70364238, 0.70364238, 2.81456954, 0.93818985, 0.70364238,\n",
       "       2.81456954, 1.40728477, 0.70364238, 0.70364238, 0.93818985,\n",
       "       2.81456954, 2.81456954, 0.93818985, 0.70364238, 0.70364238,\n",
       "       0.70364238, 1.40728477, 0.70364238, 0.70364238, 0.93818985,\n",
       "       0.70364238, 2.81456954, 0.93818985, 0.70364238, 0.70364238,\n",
       "       0.93818985, 1.40728477, 0.93818985, 0.93818985, 0.93818985,\n",
       "       2.81456954, 0.93818985, 0.70364238, 0.70364238, 0.70364238,\n",
       "       2.81456954, 1.40728477, 0.93818985, 2.81456954, 2.81456954,\n",
       "       1.40728477, 1.40728477, 0.70364238, 0.70364238, 0.70364238,\n",
       "       1.40728477, 0.70364238, 0.93818985, 0.70364238, 1.40728477,\n",
       "       0.70364238, 2.81456954, 2.81456954, 2.81456954, 0.70364238,\n",
       "       0.70364238, 0.93818985, 2.81456954, 2.81456954, 2.81456954,\n",
       "       1.40728477, 0.70364238, 0.70364238, 2.81456954, 0.70364238,\n",
       "       2.81456954, 0.70364238, 1.40728477, 1.40728477, 1.40728477,\n",
       "       0.93818985, 0.70364238, 2.81456954, 0.70364238, 1.40728477,\n",
       "       2.81456954, 0.93818985, 1.40728477, 0.70364238, 2.81456954,\n",
       "       0.70364238])"
      ]
     },
     "execution_count": 304,
     "metadata": {},
     "output_type": "execute_result"
    }
   ],
   "source": [
    "class_weights"
   ]
  },
  {
   "cell_type": "code",
   "execution_count": 305,
   "metadata": {},
   "outputs": [],
   "source": [
    "class_weights = dict(enumerate(class_weights))"
   ]
  },
  {
   "cell_type": "code",
   "execution_count": 306,
   "metadata": {},
   "outputs": [
    {
     "data": {
      "text/plain": [
       "{0: 1.4072847682119205,\n",
       " 1: 0.7036423841059603,\n",
       " 2: 0.7036423841059603,\n",
       " 3: 1.4072847682119205,\n",
       " 4: 0.9381898454746137,\n",
       " 5: 0.7036423841059603,\n",
       " 6: 0.9381898454746137,\n",
       " 7: 2.814569536423841,\n",
       " 8: 0.9381898454746137,\n",
       " 9: 0.7036423841059603,\n",
       " 10: 0.7036423841059603,\n",
       " 11: 0.7036423841059603,\n",
       " 12: 2.814569536423841,\n",
       " 13: 0.7036423841059603,\n",
       " 14: 2.814569536423841,\n",
       " 15: 0.9381898454746137,\n",
       " 16: 0.9381898454746137,\n",
       " 17: 0.7036423841059603,\n",
       " 18: 2.814569536423841,\n",
       " 19: 0.7036423841059603,\n",
       " 20: 0.7036423841059603,\n",
       " 21: 0.7036423841059603,\n",
       " 22: 0.9381898454746137,\n",
       " 23: 0.7036423841059603,\n",
       " 24: 2.814569536423841,\n",
       " 25: 0.9381898454746137,\n",
       " 26: 1.4072847682119205,\n",
       " 27: 0.7036423841059603,\n",
       " 28: 0.7036423841059603,\n",
       " 29: 0.7036423841059603,\n",
       " 30: 0.7036423841059603,\n",
       " 31: 1.4072847682119205,\n",
       " 32: 0.7036423841059603,\n",
       " 33: 0.9381898454746137,\n",
       " 34: 1.4072847682119205,\n",
       " 35: 1.4072847682119205,\n",
       " 36: 1.4072847682119205,\n",
       " 37: 2.814569536423841,\n",
       " 38: 0.7036423841059603,\n",
       " 39: 1.4072847682119205,\n",
       " 40: 0.7036423841059603,\n",
       " 41: 0.7036423841059603,\n",
       " 42: 0.7036423841059603,\n",
       " 43: 0.7036423841059603,\n",
       " 44: 0.7036423841059603,\n",
       " 45: 1.4072847682119205,\n",
       " 46: 0.7036423841059603,\n",
       " 47: 2.814569536423841,\n",
       " 48: 0.7036423841059603,\n",
       " 49: 0.7036423841059603,\n",
       " 50: 1.4072847682119205,\n",
       " 51: 0.9381898454746137,\n",
       " 52: 0.7036423841059603,\n",
       " 53: 0.7036423841059603,\n",
       " 54: 1.4072847682119205,\n",
       " 55: 2.814569536423841,\n",
       " 56: 1.4072847682119205,\n",
       " 57: 0.9381898454746137,\n",
       " 58: 0.9381898454746137,\n",
       " 59: 0.7036423841059603,\n",
       " 60: 0.9381898454746137,\n",
       " 61: 0.7036423841059603,\n",
       " 62: 1.4072847682119205,\n",
       " 63: 1.4072847682119205,\n",
       " 64: 1.4072847682119205,\n",
       " 65: 0.9381898454746137,\n",
       " 66: 2.814569536423841,\n",
       " 67: 0.9381898454746137,\n",
       " 68: 1.4072847682119205,\n",
       " 69: 2.814569536423841,\n",
       " 70: 0.7036423841059603,\n",
       " 71: 0.7036423841059603,\n",
       " 72: 2.814569536423841,\n",
       " 73: 0.9381898454746137,\n",
       " 74: 0.7036423841059603,\n",
       " 75: 2.814569536423841,\n",
       " 76: 1.4072847682119205,\n",
       " 77: 0.7036423841059603,\n",
       " 78: 0.7036423841059603,\n",
       " 79: 0.9381898454746137,\n",
       " 80: 2.814569536423841,\n",
       " 81: 2.814569536423841,\n",
       " 82: 0.9381898454746137,\n",
       " 83: 0.7036423841059603,\n",
       " 84: 0.7036423841059603,\n",
       " 85: 0.7036423841059603,\n",
       " 86: 1.4072847682119205,\n",
       " 87: 0.7036423841059603,\n",
       " 88: 0.7036423841059603,\n",
       " 89: 0.9381898454746137,\n",
       " 90: 0.7036423841059603,\n",
       " 91: 2.814569536423841,\n",
       " 92: 0.9381898454746137,\n",
       " 93: 0.7036423841059603,\n",
       " 94: 0.7036423841059603,\n",
       " 95: 0.9381898454746137,\n",
       " 96: 1.4072847682119205,\n",
       " 97: 0.9381898454746137,\n",
       " 98: 0.9381898454746137,\n",
       " 99: 0.9381898454746137,\n",
       " 100: 2.814569536423841,\n",
       " 101: 0.9381898454746137,\n",
       " 102: 0.7036423841059603,\n",
       " 103: 0.7036423841059603,\n",
       " 104: 0.7036423841059603,\n",
       " 105: 2.814569536423841,\n",
       " 106: 1.4072847682119205,\n",
       " 107: 0.9381898454746137,\n",
       " 108: 2.814569536423841,\n",
       " 109: 2.814569536423841,\n",
       " 110: 1.4072847682119205,\n",
       " 111: 1.4072847682119205,\n",
       " 112: 0.7036423841059603,\n",
       " 113: 0.7036423841059603,\n",
       " 114: 0.7036423841059603,\n",
       " 115: 1.4072847682119205,\n",
       " 116: 0.7036423841059603,\n",
       " 117: 0.9381898454746137,\n",
       " 118: 0.7036423841059603,\n",
       " 119: 1.4072847682119205,\n",
       " 120: 0.7036423841059603,\n",
       " 121: 2.814569536423841,\n",
       " 122: 2.814569536423841,\n",
       " 123: 2.814569536423841,\n",
       " 124: 0.7036423841059603,\n",
       " 125: 0.7036423841059603,\n",
       " 126: 0.9381898454746137,\n",
       " 127: 2.814569536423841,\n",
       " 128: 2.814569536423841,\n",
       " 129: 2.814569536423841,\n",
       " 130: 1.4072847682119205,\n",
       " 131: 0.7036423841059603,\n",
       " 132: 0.7036423841059603,\n",
       " 133: 2.814569536423841,\n",
       " 134: 0.7036423841059603,\n",
       " 135: 2.814569536423841,\n",
       " 136: 0.7036423841059603,\n",
       " 137: 1.4072847682119205,\n",
       " 138: 1.4072847682119205,\n",
       " 139: 1.4072847682119205,\n",
       " 140: 0.9381898454746137,\n",
       " 141: 0.7036423841059603,\n",
       " 142: 2.814569536423841,\n",
       " 143: 0.7036423841059603,\n",
       " 144: 1.4072847682119205,\n",
       " 145: 2.814569536423841,\n",
       " 146: 0.9381898454746137,\n",
       " 147: 1.4072847682119205,\n",
       " 148: 0.7036423841059603,\n",
       " 149: 2.814569536423841,\n",
       " 150: 0.7036423841059603}"
      ]
     },
     "execution_count": 306,
     "metadata": {},
     "output_type": "execute_result"
    }
   ],
   "source": [
    "class_weights"
   ]
  },
  {
   "cell_type": "code",
   "execution_count": null,
   "metadata": {},
   "outputs": [],
   "source": []
  },
  {
   "cell_type": "code",
   "execution_count": 307,
   "metadata": {},
   "outputs": [
    {
     "name": "stdout",
     "output_type": "stream",
     "text": [
      "bert shape (None, 33, 768)\n",
      "Done loading 196 BERT weights from: model/uncased_L-12_H-768_A-12/bert_model.ckpt into <bert.model.BertModelLayer object at 0x7ff1d7290a30> (prefix:bert). Count of weights not found in the checkpoint was: [0]. Count of weights with mismatched shape: [0]\n",
      "Unused weights from checkpoint: \n",
      "\tbert/embeddings/token_type_embeddings\n",
      "\tbert/pooler/dense/bias\n",
      "\tbert/pooler/dense/kernel\n",
      "\tcls/predictions/output_bias\n",
      "\tcls/predictions/transform/LayerNorm/beta\n",
      "\tcls/predictions/transform/LayerNorm/gamma\n",
      "\tcls/predictions/transform/dense/bias\n",
      "\tcls/predictions/transform/dense/kernel\n",
      "\tcls/seq_relationship/output_bias\n",
      "\tcls/seq_relationship/output_weights\n"
     ]
    }
   ],
   "source": [
    "model = create_model(data.max_seq_len, bert_ckpt_file)"
   ]
  },
  {
   "cell_type": "code",
   "execution_count": 308,
   "metadata": {},
   "outputs": [
    {
     "name": "stdout",
     "output_type": "stream",
     "text": [
      "Model: \"functional_5\"\n",
      "_________________________________________________________________\n",
      "Layer (type)                 Output Shape              Param #   \n",
      "=================================================================\n",
      "input_ids (InputLayer)       [(None, 33)]              0         \n",
      "_________________________________________________________________\n",
      "bert (BertModelLayer)        (None, 33, 768)           108890112 \n",
      "_________________________________________________________________\n",
      "lambda_2 (Lambda)            (None, 768)               0         \n",
      "_________________________________________________________________\n",
      "dropout_4 (Dropout)          (None, 768)               0         \n",
      "_________________________________________________________________\n",
      "dense_4 (Dense)              (None, 768)               590592    \n",
      "_________________________________________________________________\n",
      "dropout_5 (Dropout)          (None, 768)               0         \n",
      "_________________________________________________________________\n",
      "dense_5 (Dense)              (None, 151)               116119    \n",
      "=================================================================\n",
      "Total params: 109,596,823\n",
      "Trainable params: 109,596,823\n",
      "Non-trainable params: 0\n",
      "_________________________________________________________________\n"
     ]
    }
   ],
   "source": [
    "model.summary()"
   ]
  },
  {
   "cell_type": "code",
   "execution_count": 309,
   "metadata": {},
   "outputs": [],
   "source": [
    "model.compile(\n",
    "  optimizer=keras.optimizers.Adam(1e-5),\n",
    "  loss=keras.losses.SparseCategoricalCrossentropy(from_logits=True),\n",
    "  metrics=[keras.metrics.SparseCategoricalAccuracy(name=\"acc\")]\n",
    ")"
   ]
  },
  {
   "cell_type": "code",
   "execution_count": 310,
   "metadata": {},
   "outputs": [
    {
     "name": "stdout",
     "output_type": "stream",
     "text": [
      "Epoch 1/100\n",
      "  2/665 [..............................] - ETA: 6:33 - loss: 5.2548 - acc: 0.0312WARNING:tensorflow:Callbacks method `on_train_batch_end` is slow compared to the batch time (batch time: 0.1812s vs `on_train_batch_end` time: 1.0044s). Check your callbacks.\n",
      "665/665 [==============================] - 125s 188ms/step - loss: 5.0170 - acc: 0.0084 - val_loss: 5.0149 - val_acc: 0.0110\n",
      "Epoch 2/100\n",
      "665/665 [==============================] - 123s 186ms/step - loss: 5.0100 - acc: 0.0235 - val_loss: 5.0029 - val_acc: 0.0219\n",
      "Epoch 3/100\n",
      "665/665 [==============================] - 125s 189ms/step - loss: 4.9803 - acc: 0.0728 - val_loss: 4.9576 - val_acc: 0.0703\n",
      "Epoch 4/100\n",
      "665/665 [==============================] - 125s 188ms/step - loss: 4.9349 - acc: 0.1275 - val_loss: 4.9065 - val_acc: 0.1268\n",
      "Epoch 5/100\n",
      "665/665 [==============================] - 125s 187ms/step - loss: 4.8825 - acc: 0.1884 - val_loss: 4.8427 - val_acc: 0.2048\n",
      "Epoch 6/100\n",
      "665/665 [==============================] - 126s 190ms/step - loss: 4.8123 - acc: 0.2726 - val_loss: 4.7812 - val_acc: 0.2565\n",
      "Epoch 7/100\n",
      "665/665 [==============================] - 127s 192ms/step - loss: 4.7499 - acc: 0.3180 - val_loss: 4.7432 - val_acc: 0.2916\n",
      "Epoch 8/100\n",
      "665/665 [==============================] - 130s 195ms/step - loss: 4.7110 - acc: 0.3481 - val_loss: 4.7019 - val_acc: 0.3329\n",
      "Epoch 9/100\n",
      "665/665 [==============================] - 130s 196ms/step - loss: 4.6698 - acc: 0.3790 - val_loss: 4.6782 - val_acc: 0.3565\n",
      "Epoch 10/100\n",
      "665/665 [==============================] - 128s 193ms/step - loss: 4.6337 - acc: 0.4012 - val_loss: 4.6537 - val_acc: 0.3819\n",
      "Epoch 11/100\n",
      "665/665 [==============================] - 129s 194ms/step - loss: 4.6080 - acc: 0.4246 - val_loss: 4.6226 - val_acc: 0.4142\n",
      "Epoch 12/100\n",
      "665/665 [==============================] - 128s 192ms/step - loss: 4.5723 - acc: 0.4631 - val_loss: 4.5971 - val_acc: 0.4390\n",
      "Epoch 13/100\n",
      "665/665 [==============================] - 128s 193ms/step - loss: 4.5361 - acc: 0.5006 - val_loss: 4.5611 - val_acc: 0.4771\n",
      "Epoch 14/100\n",
      "665/665 [==============================] - 128s 192ms/step - loss: 4.4987 - acc: 0.5331 - val_loss: 4.5415 - val_acc: 0.4903\n",
      "Epoch 15/100\n",
      "665/665 [==============================] - 130s 195ms/step - loss: 4.4765 - acc: 0.5476 - val_loss: 4.5346 - val_acc: 0.4974\n",
      "Epoch 16/100\n",
      "665/665 [==============================] - 129s 194ms/step - loss: 4.4629 - acc: 0.5576 - val_loss: 4.5195 - val_acc: 0.5135\n",
      "Epoch 17/100\n",
      "665/665 [==============================] - 129s 195ms/step - loss: 4.4438 - acc: 0.5813 - val_loss: 4.5013 - val_acc: 0.5326\n",
      "Epoch 18/100\n",
      "665/665 [==============================] - 128s 193ms/step - loss: 4.4200 - acc: 0.6110 - val_loss: 4.4806 - val_acc: 0.5535\n",
      "Epoch 19/100\n",
      "665/665 [==============================] - 131s 197ms/step - loss: 4.3975 - acc: 0.6326 - val_loss: 4.4616 - val_acc: 0.5706\n",
      "Epoch 20/100\n",
      "665/665 [==============================] - 129s 193ms/step - loss: 4.3740 - acc: 0.6549 - val_loss: 4.4402 - val_acc: 0.5974\n",
      "Epoch 21/100\n",
      "665/665 [==============================] - 128s 192ms/step - loss: 4.3533 - acc: 0.6792 - val_loss: 4.4255 - val_acc: 0.6074\n",
      "Epoch 22/100\n",
      "665/665 [==============================] - 126s 190ms/step - loss: 4.3356 - acc: 0.6933 - val_loss: 4.4177 - val_acc: 0.6181\n",
      "Epoch 23/100\n",
      "665/665 [==============================] - 126s 189ms/step - loss: 4.3199 - acc: 0.7056 - val_loss: 4.4004 - val_acc: 0.6355\n",
      "Epoch 24/100\n",
      "665/665 [==============================] - 126s 189ms/step - loss: 4.3005 - acc: 0.7256 - val_loss: 4.3949 - val_acc: 0.6371\n",
      "Epoch 25/100\n",
      "665/665 [==============================] - 126s 189ms/step - loss: 4.2848 - acc: 0.7391 - val_loss: 4.3764 - val_acc: 0.6561\n",
      "Epoch 26/100\n",
      "665/665 [==============================] - 125s 189ms/step - loss: 4.2697 - acc: 0.7490 - val_loss: 4.3626 - val_acc: 0.6713\n",
      "Epoch 27/100\n",
      "665/665 [==============================] - 125s 188ms/step - loss: 4.2563 - acc: 0.7608 - val_loss: 4.3436 - val_acc: 0.6900\n",
      "Epoch 28/100\n",
      "665/665 [==============================] - 126s 189ms/step - loss: 4.2431 - acc: 0.7716 - val_loss: 4.3356 - val_acc: 0.6981\n",
      "Epoch 29/100\n",
      "665/665 [==============================] - 125s 189ms/step - loss: 4.2280 - acc: 0.7852 - val_loss: 4.3285 - val_acc: 0.7032\n",
      "Epoch 30/100\n",
      "665/665 [==============================] - 126s 189ms/step - loss: 4.2184 - acc: 0.7957 - val_loss: 4.3198 - val_acc: 0.7145\n",
      "Epoch 31/100\n",
      "665/665 [==============================] - 133s 201ms/step - loss: 4.2080 - acc: 0.8079 - val_loss: 4.3114 - val_acc: 0.7210\n",
      "Epoch 32/100\n",
      "665/665 [==============================] - 131s 198ms/step - loss: 4.1981 - acc: 0.8184 - val_loss: 4.3011 - val_acc: 0.7313\n",
      "Epoch 33/100\n",
      "665/665 [==============================] - 130s 196ms/step - loss: 4.1883 - acc: 0.8270 - val_loss: 4.2948 - val_acc: 0.7377\n",
      "Epoch 34/100\n",
      "665/665 [==============================] - 127s 190ms/step - loss: 4.1754 - acc: 0.8417 - val_loss: 4.2847 - val_acc: 0.7477\n",
      "Epoch 35/100\n",
      "665/665 [==============================] - 126s 189ms/step - loss: 4.1645 - acc: 0.8552 - val_loss: 4.2704 - val_acc: 0.7613\n",
      "Epoch 36/100\n",
      "665/665 [==============================] - 125s 188ms/step - loss: 4.1557 - acc: 0.8656 - val_loss: 4.2650 - val_acc: 0.7665\n",
      "Epoch 37/100\n",
      "665/665 [==============================] - 125s 188ms/step - loss: 4.1489 - acc: 0.8735 - val_loss: 4.2602 - val_acc: 0.7706\n",
      "Epoch 38/100\n",
      "665/665 [==============================] - 126s 189ms/step - loss: 4.1412 - acc: 0.8815 - val_loss: 4.2512 - val_acc: 0.7800\n",
      "Epoch 39/100\n",
      "665/665 [==============================] - 125s 189ms/step - loss: 4.1305 - acc: 0.8889 - val_loss: 4.2486 - val_acc: 0.7861\n",
      "Epoch 40/100\n",
      "665/665 [==============================] - 125s 189ms/step - loss: 4.1245 - acc: 0.8935 - val_loss: 4.2459 - val_acc: 0.7868\n",
      "Epoch 41/100\n",
      "665/665 [==============================] - 125s 188ms/step - loss: 4.1204 - acc: 0.8965 - val_loss: 4.2406 - val_acc: 0.7903\n",
      "Epoch 42/100\n",
      "665/665 [==============================] - 127s 190ms/step - loss: 4.1179 - acc: 0.9001 - val_loss: 4.2398 - val_acc: 0.7916\n",
      "Epoch 43/100\n",
      "665/665 [==============================] - 131s 197ms/step - loss: 4.1143 - acc: 0.9021 - val_loss: 4.2345 - val_acc: 0.7981\n",
      "Epoch 44/100\n",
      "665/665 [==============================] - 126s 189ms/step - loss: 4.1117 - acc: 0.9048 - val_loss: 4.2425 - val_acc: 0.7884\n",
      "Epoch 45/100\n",
      "665/665 [==============================] - 125s 188ms/step - loss: 4.1105 - acc: 0.9068 - val_loss: 4.2384 - val_acc: 0.7929\n",
      "Epoch 46/100\n",
      "665/665 [==============================] - 125s 188ms/step - loss: 4.1043 - acc: 0.9150 - val_loss: 4.2292 - val_acc: 0.8016\n",
      "Epoch 47/100\n",
      "665/665 [==============================] - 126s 189ms/step - loss: 4.1013 - acc: 0.9184 - val_loss: 4.2302 - val_acc: 0.8013\n",
      "Epoch 48/100\n",
      "665/665 [==============================] - 125s 189ms/step - loss: 4.0961 - acc: 0.9230 - val_loss: 4.2224 - val_acc: 0.8094\n",
      "Epoch 49/100\n",
      "665/665 [==============================] - 125s 188ms/step - loss: 4.0898 - acc: 0.9264 - val_loss: 4.2194 - val_acc: 0.8123\n",
      "Epoch 50/100\n",
      "665/665 [==============================] - 125s 188ms/step - loss: 4.0826 - acc: 0.9342 - val_loss: 4.2122 - val_acc: 0.8187\n",
      "Epoch 51/100\n",
      "665/665 [==============================] - 126s 189ms/step - loss: 4.0768 - acc: 0.9414 - val_loss: 4.2049 - val_acc: 0.8268\n",
      "Epoch 52/100\n",
      "665/665 [==============================] - 125s 189ms/step - loss: 4.0726 - acc: 0.9476 - val_loss: 4.2050 - val_acc: 0.8277\n",
      "Epoch 53/100\n",
      "665/665 [==============================] - 125s 188ms/step - loss: 4.0656 - acc: 0.9580 - val_loss: 4.1904 - val_acc: 0.8426\n",
      "Epoch 54/100\n",
      "665/665 [==============================] - 125s 189ms/step - loss: 4.0618 - acc: 0.9636 - val_loss: 4.1944 - val_acc: 0.8387\n",
      "Epoch 55/100\n",
      "665/665 [==============================] - 126s 189ms/step - loss: 4.0601 - acc: 0.9651 - val_loss: 4.1944 - val_acc: 0.8377\n",
      "Epoch 56/100\n",
      "665/665 [==============================] - 125s 188ms/step - loss: 4.0582 - acc: 0.9662 - val_loss: 4.1918 - val_acc: 0.8390\n",
      "Epoch 57/100\n",
      "665/665 [==============================] - 125s 188ms/step - loss: 4.0571 - acc: 0.9673 - val_loss: 4.1905 - val_acc: 0.8423\n",
      "Epoch 58/100\n"
     ]
    },
    {
     "name": "stdout",
     "output_type": "stream",
     "text": [
      "665/665 [==============================] - 125s 188ms/step - loss: 4.0578 - acc: 0.9656 - val_loss: 4.1894 - val_acc: 0.8439\n",
      "Epoch 59/100\n",
      "665/665 [==============================] - 125s 188ms/step - loss: 4.0571 - acc: 0.9669 - val_loss: 4.1861 - val_acc: 0.8458\n",
      "Epoch 60/100\n",
      "665/665 [==============================] - 127s 192ms/step - loss: 4.0550 - acc: 0.9686 - val_loss: 4.1893 - val_acc: 0.8413\n",
      "Epoch 61/100\n",
      "665/665 [==============================] - 128s 192ms/step - loss: 4.0541 - acc: 0.9693 - val_loss: 4.1899 - val_acc: 0.8387\n",
      "Epoch 62/100\n",
      "665/665 [==============================] - 127s 191ms/step - loss: 4.0549 - acc: 0.9680 - val_loss: 4.1868 - val_acc: 0.8455\n",
      "Epoch 63/100\n",
      "665/665 [==============================] - 129s 194ms/step - loss: 4.0556 - acc: 0.9680 - val_loss: 4.1932 - val_acc: 0.8371\n",
      "Epoch 64/100\n",
      "665/665 [==============================] - 128s 192ms/step - loss: 4.0552 - acc: 0.9684 - val_loss: 4.1911 - val_acc: 0.8384\n",
      "Epoch 65/100\n",
      "665/665 [==============================] - 129s 193ms/step - loss: 4.0545 - acc: 0.9686 - val_loss: 4.1922 - val_acc: 0.8374\n",
      "Epoch 66/100\n",
      "665/665 [==============================] - 127s 191ms/step - loss: 4.0537 - acc: 0.9698 - val_loss: 4.1887 - val_acc: 0.8413\n",
      "Epoch 67/100\n",
      "665/665 [==============================] - 127s 191ms/step - loss: 4.0531 - acc: 0.9702 - val_loss: 4.1866 - val_acc: 0.8435\n",
      "Epoch 68/100\n",
      "665/665 [==============================] - 127s 191ms/step - loss: 4.0551 - acc: 0.9697 - val_loss: 4.1927 - val_acc: 0.8387\n",
      "Epoch 69/100\n",
      "665/665 [==============================] - 127s 191ms/step - loss: 4.0516 - acc: 0.9726 - val_loss: 4.1885 - val_acc: 0.8416\n",
      "Epoch 70/100\n",
      "665/665 [==============================] - 129s 193ms/step - loss: 4.0517 - acc: 0.9730 - val_loss: 4.1861 - val_acc: 0.8455\n",
      "Epoch 71/100\n",
      "665/665 [==============================] - 130s 196ms/step - loss: 4.0508 - acc: 0.9736 - val_loss: 4.1857 - val_acc: 0.8448\n",
      "Epoch 72/100\n",
      "665/665 [==============================] - 126s 190ms/step - loss: 4.0500 - acc: 0.9745 - val_loss: 4.1856 - val_acc: 0.8445\n",
      "Epoch 73/100\n",
      "665/665 [==============================] - 127s 191ms/step - loss: 4.0467 - acc: 0.9797 - val_loss: 4.1792 - val_acc: 0.8494\n",
      "Epoch 74/100\n",
      "665/665 [==============================] - 127s 191ms/step - loss: 4.0416 - acc: 0.9862 - val_loss: 4.1801 - val_acc: 0.8484\n",
      "Epoch 75/100\n",
      "665/665 [==============================] - 128s 192ms/step - loss: 4.0393 - acc: 0.9892 - val_loss: 4.1751 - val_acc: 0.8561\n",
      "Epoch 76/100\n",
      "665/665 [==============================] - 126s 189ms/step - loss: 4.0390 - acc: 0.9890 - val_loss: 4.1762 - val_acc: 0.8565\n",
      "Epoch 77/100\n",
      "665/665 [==============================] - 126s 190ms/step - loss: 4.0375 - acc: 0.9905 - val_loss: 4.1746 - val_acc: 0.8555\n",
      "Epoch 78/100\n",
      "665/665 [==============================] - 126s 189ms/step - loss: 4.0370 - acc: 0.9911 - val_loss: 4.1731 - val_acc: 0.8590\n",
      "Epoch 79/100\n",
      "665/665 [==============================] - 126s 189ms/step - loss: 4.0360 - acc: 0.9917 - val_loss: 4.1706 - val_acc: 0.8616\n",
      "Epoch 80/100\n",
      "665/665 [==============================] - 125s 189ms/step - loss: 4.0377 - acc: 0.9899 - val_loss: 4.1702 - val_acc: 0.8606\n",
      "Epoch 81/100\n",
      "665/665 [==============================] - 126s 190ms/step - loss: 4.0369 - acc: 0.9908 - val_loss: 4.1713 - val_acc: 0.8577\n",
      "Epoch 82/100\n",
      "665/665 [==============================] - 128s 192ms/step - loss: 4.0366 - acc: 0.9912 - val_loss: 4.1707 - val_acc: 0.8619\n",
      "Epoch 83/100\n",
      "665/665 [==============================] - 127s 192ms/step - loss: 4.0358 - acc: 0.9921 - val_loss: 4.1719 - val_acc: 0.8594\n",
      "Epoch 84/100\n",
      "665/665 [==============================] - 126s 189ms/step - loss: 4.0365 - acc: 0.9913 - val_loss: 4.1836 - val_acc: 0.8468\n",
      "Epoch 85/100\n",
      "665/665 [==============================] - 128s 193ms/step - loss: 4.0360 - acc: 0.9919 - val_loss: 4.1727 - val_acc: 0.8584\n",
      "Epoch 86/100\n",
      "665/665 [==============================] - 129s 195ms/step - loss: 4.0358 - acc: 0.9919 - val_loss: 4.1719 - val_acc: 0.8594\n",
      "Epoch 87/100\n",
      "665/665 [==============================] - 129s 193ms/step - loss: 4.0354 - acc: 0.9925 - val_loss: 4.1720 - val_acc: 0.8590\n",
      "Epoch 88/100\n",
      "665/665 [==============================] - 129s 194ms/step - loss: 4.0355 - acc: 0.9923 - val_loss: 4.1707 - val_acc: 0.8600\n",
      "Epoch 89/100\n",
      "665/665 [==============================] - 129s 194ms/step - loss: 4.0348 - acc: 0.9932 - val_loss: 4.1725 - val_acc: 0.8581\n",
      "Epoch 90/100\n",
      "665/665 [==============================] - 128s 193ms/step - loss: 4.0345 - acc: 0.9935 - val_loss: 4.1752 - val_acc: 0.8552\n",
      "Epoch 91/100\n",
      "665/665 [==============================] - 127s 192ms/step - loss: 4.0374 - acc: 0.9904 - val_loss: 4.1852 - val_acc: 0.8429\n",
      "Epoch 92/100\n",
      "665/665 [==============================] - 126s 189ms/step - loss: 4.0395 - acc: 0.9903 - val_loss: 4.1763 - val_acc: 0.8558\n",
      "Epoch 93/100\n",
      "665/665 [==============================] - 126s 189ms/step - loss: 4.0354 - acc: 0.9932 - val_loss: 4.1861 - val_acc: 0.8448\n",
      "Epoch 94/100\n",
      "665/665 [==============================] - 128s 192ms/step - loss: 4.0404 - acc: 0.9910 - val_loss: 4.1811 - val_acc: 0.8494\n",
      "Epoch 95/100\n",
      "665/665 [==============================] - 127s 191ms/step - loss: 4.0371 - acc: 0.9910 - val_loss: 4.1883 - val_acc: 0.8419\n",
      "Epoch 96/100\n",
      "665/665 [==============================] - 127s 191ms/step - loss: 4.0371 - acc: 0.9915 - val_loss: 4.1802 - val_acc: 0.8503\n",
      "Epoch 97/100\n",
      "665/665 [==============================] - 128s 192ms/step - loss: 4.0355 - acc: 0.9928 - val_loss: 4.1878 - val_acc: 0.8432\n",
      "Epoch 98/100\n",
      "665/665 [==============================] - 128s 192ms/step - loss: 4.0348 - acc: 0.9934 - val_loss: 4.1787 - val_acc: 0.8506\n",
      "Epoch 99/100\n",
      "665/665 [==============================] - 128s 193ms/step - loss: 4.0345 - acc: 0.9938 - val_loss: 4.1785 - val_acc: 0.8510\n",
      "Epoch 100/100\n",
      "665/665 [==============================] - 128s 192ms/step - loss: 4.0352 - acc: 0.9931 - val_loss: 4.1799 - val_acc: 0.8490\n"
     ]
    }
   ],
   "source": [
    "log_dir = \"log/intent_detection/\" + datetime.datetime.now().strftime(\"%Y%m%d-%H%M%s\")\n",
    "tensorboard_callback = keras.callbacks.TensorBoard(log_dir=log_dir)\n",
    "\n",
    "history = model.fit(\n",
    "  x=data.train_x, \n",
    "  y=data.train_y,\n",
    "  validation_data=(data.val_x,data.val_y),\n",
    "                              class_weight=class_weights,\n",
    "  batch_size=16,\n",
    "  shuffle=True,\n",
    "  epochs=100,\n",
    "  callbacks=[tensorboard_callback]\n",
    ")"
   ]
  },
  {
   "cell_type": "code",
   "execution_count": 319,
   "metadata": {},
   "outputs": [
    {
     "name": "stdout",
     "output_type": "stream",
     "text": [
      "The tensorboard extension is already loaded. To reload it, use:\n",
      "  %reload_ext tensorboard\n"
     ]
    }
   ],
   "source": [
    "%load_ext tensorboard"
   ]
  },
  {
   "cell_type": "code",
   "execution_count": 320,
   "metadata": {},
   "outputs": [
    {
     "data": {
      "text/plain": [
       "Reusing TensorBoard on port 6006 (pid 289584), started 6:46:35 ago. (Use '!kill 289584' to kill it.)"
      ]
     },
     "metadata": {},
     "output_type": "display_data"
    },
    {
     "data": {
      "text/html": [
       "\n",
       "      <iframe id=\"tensorboard-frame-a9d36ae3834943c2\" width=\"100%\" height=\"800\" frameborder=\"0\">\n",
       "      </iframe>\n",
       "      <script>\n",
       "        (function() {\n",
       "          const frame = document.getElementById(\"tensorboard-frame-a9d36ae3834943c2\");\n",
       "          const url = new URL(\"/\", window.location);\n",
       "          url.port = 6006;\n",
       "          frame.src = url;\n",
       "        })();\n",
       "      </script>\n",
       "  "
      ],
      "text/plain": [
       "<IPython.core.display.HTML object>"
      ]
     },
     "metadata": {},
     "output_type": "display_data"
    }
   ],
   "source": [
    "%tensorboard --logdir log"
   ]
  },
  {
   "cell_type": "code",
   "execution_count": 313,
   "metadata": {},
   "outputs": [
    {
     "name": "stdout",
     "output_type": "stream",
     "text": [
      "333/333 [==============================] - 19s 57ms/step - loss: 4.0346 - acc: 0.9940\n",
      "172/172 [==============================] - 10s 57ms/step - loss: 4.2635 - acc: 0.7707\n",
      "train acc 0.9939764738082886\n",
      "test acc 0.770727276802063\n"
     ]
    }
   ],
   "source": [
    "_, train_acc = model.evaluate(data.train_x, data.train_y)\n",
    "_, test_acc = model.evaluate(data.test_x, data.test_y)\n",
    "\n",
    "print(\"train acc\", train_acc)\n",
    "print(\"test acc\", test_acc)"
   ]
  },
  {
   "cell_type": "code",
   "execution_count": 314,
   "metadata": {},
   "outputs": [
    {
     "name": "stdout",
     "output_type": "stream",
     "text": [
      "333/333 [==============================] - 19s 56ms/step - loss: 4.0346 - acc: 0.9940\n",
      "97/97 [==============================] - 6s 58ms/step - loss: 4.1799 - acc: 0.8490\n",
      "train acc 0.9939764738082886\n",
      "val acc 0.8490322828292847\n"
     ]
    }
   ],
   "source": [
    "_, train_acc = model.evaluate(data.train_x, data.train_y)\n",
    "_, val_acc = model.evaluate(data.val_x, data.val_y)\n",
    "\n",
    "print(\"train acc\", train_acc)\n",
    "print(\"val acc\", val_acc)"
   ]
  },
  {
   "cell_type": "code",
   "execution_count": 315,
   "metadata": {},
   "outputs": [],
   "source": [
    "y_pred_test = model.predict(data.test_x).argmax(axis=-1)"
   ]
  },
  {
   "cell_type": "code",
   "execution_count": 316,
   "metadata": {},
   "outputs": [
    {
     "name": "stdout",
     "output_type": "stream",
     "text": [
      "                           precision    recall  f1-score   support\n",
      "\n",
      "           direct_deposit       0.81      0.97      0.88        30\n",
      "                 carry_on       1.00      0.87      0.93        30\n",
      "             whisper_mode       0.97      1.00      0.98        30\n",
      "                     text       0.79      0.90      0.84        30\n",
      "                   recipe       0.30      0.83      0.44        30\n",
      "               smart_home       0.68      0.90      0.77        30\n",
      "      who_do_you_work_for       0.64      0.53      0.58        30\n",
      "          rewards_balance       0.69      0.97      0.81        30\n",
      "   restaurant_reservation       0.63      0.87      0.73        30\n",
      "      travel_notification       0.90      0.90      0.90        30\n",
      "          update_playlist       0.97      0.93      0.95        30\n",
      "            change_volume       1.00      0.80      0.89        30\n",
      "                  routing       1.00      1.00      1.00        30\n",
      "                      mpg       0.65      1.00      0.79        30\n",
      "             bill_balance       0.84      0.53      0.65        30\n",
      "         do_you_have_pets       0.94      1.00      0.97        30\n",
      "                cook_time       0.57      0.83      0.68        30\n",
      "                what_song       0.83      0.97      0.89        30\n",
      "                 new_card       0.85      0.77      0.81        30\n",
      "         todo_list_update       0.64      0.93      0.76        30\n",
      "                  traffic       0.97      1.00      0.98        30\n",
      "                next_song       0.78      0.97      0.87        30\n",
      "       where_are_you_from       0.67      0.93      0.78        30\n",
      "              tire_change       0.90      0.93      0.92        30\n",
      "                 bill_due       0.68      0.87      0.76        30\n",
      "                 greeting       0.76      0.97      0.85        30\n",
      "                    taxes       0.86      1.00      0.92        30\n",
      "             lost_luggage       0.94      0.97      0.95        30\n",
      "            change_accent       0.69      0.90      0.78        30\n",
      "                todo_list       0.76      0.97      0.85        30\n",
      "         last_maintenance       0.72      0.93      0.81        30\n",
      "                make_call       0.64      0.93      0.76        30\n",
      "                 gas_type       0.90      0.90      0.90        30\n",
      "       cancel_reservation       0.56      1.00      0.71        30\n",
      "         schedule_meeting       0.82      0.90      0.86        30\n",
      "               find_phone       0.90      0.93      0.92        30\n",
      "         insurance_change       0.93      0.87      0.90        30\n",
      "     improve_credit_score       0.89      0.83      0.86        30\n",
      "        travel_suggestion       0.80      0.80      0.80        30\n",
      "                roll_dice       1.00      1.00      1.00        30\n",
      "                   repeat       0.96      0.90      0.93        30\n",
      "               play_music       0.77      0.67      0.71        30\n",
      "            are_you_a_bot       0.83      1.00      0.91        30\n",
      "              sync_device       0.42      0.97      0.59        30\n",
      "                 calendar       0.63      0.73      0.68        30\n",
      "                insurance       0.75      1.00      0.86        30\n",
      "       international_visa       0.88      0.97      0.92        30\n",
      "           freeze_account       0.70      1.00      0.82        30\n",
      "            shopping_list       0.91      0.67      0.77        30\n",
      "          oil_change_when       0.68      0.87      0.76        30\n",
      "           share_location       0.62      0.87      0.72        30\n",
      "       what_can_i_ask_you       0.82      0.90      0.86        30\n",
      "                plug_type       0.97      0.93      0.95        30\n",
      "                 vaccines       0.91      0.97      0.94        30\n",
      "                   payday       0.81      0.83      0.82        30\n",
      "       application_status       0.97      1.00      0.98        30\n",
      "             next_holiday       0.82      0.90      0.86        30\n",
      "                tell_joke       0.97      1.00      0.98        30\n",
      "  ingredient_substitution       0.68      0.93      0.79        30\n",
      "          calendar_update       0.68      0.90      0.77        30\n",
      "          how_old_are_you       0.70      0.93      0.80        30\n",
      "               directions       0.48      0.97      0.64        30\n",
      "               definition       0.53      0.83      0.65        30\n",
      "            rollover_401k       1.00      1.00      1.00        30\n",
      "       pto_request_status       0.96      0.77      0.85        30\n",
      "      confirm_reservation       0.83      0.97      0.89        30\n",
      "          expiration_date       0.77      0.80      0.79        30\n",
      "                 calories       0.94      0.97      0.95        30\n",
      "                    timer       0.91      0.97      0.94        30\n",
      "                 transfer       0.93      0.93      0.93        30\n",
      "              book_flight       0.72      0.93      0.81        30\n",
      "           change_ai_name       0.67      0.80      0.73        30\n",
      "                      apr       0.93      0.93      0.93        30\n",
      "      accept_reservations       0.79      0.87      0.83        30\n",
      "            exchange_rate       0.88      0.97      0.92        30\n",
      "                 pay_bill       0.79      0.90      0.84        30\n",
      "                  weather       0.57      0.97      0.72        30\n",
      "         current_location       0.81      0.97      0.88        30\n",
      "                   cancel       0.66      0.90      0.76        30\n",
      "       restaurant_reviews       0.57      0.67      0.62        30\n",
      "               pin_change       0.92      0.80      0.86        30\n",
      "          account_blocked       0.72      0.87      0.79        30\n",
      "    what_are_your_hobbies       1.00      0.87      0.93        30\n",
      "           oil_change_how       0.69      0.80      0.74        30\n",
      "          reminder_update       0.83      0.83      0.83        30\n",
      "               car_rental       0.85      0.97      0.91        30\n",
      "              pto_balance       0.66      0.83      0.74        30\n",
      "                translate       0.83      0.80      0.81        30\n",
      "                user_name       0.79      0.90      0.84        30\n",
      "                 how_busy       0.74      0.77      0.75        30\n",
      "                      yes       0.70      0.70      0.70        30\n",
      "replacement_card_duration       0.70      0.77      0.73        30\n",
      "        what_is_your_name       0.74      0.87      0.80        30\n",
      "                      gas       0.78      0.97      0.87        30\n",
      "            tire_pressure       0.88      0.97      0.92        30\n",
      "                thank_you       0.81      0.83      0.82        30\n",
      "              pto_request       0.90      0.93      0.92        30\n",
      "          meal_suggestion       0.41      0.80      0.55        30\n",
      "                 fun_fact       0.75      1.00      0.86        30\n",
      "           nutrition_info       1.00      1.00      1.00        30\n",
      "            card_declined       1.00      0.77      0.87        30\n",
      "         ingredients_list       0.62      0.70      0.66        30\n",
      "                 distance       0.73      0.53      0.62        30\n",
      "               book_hotel       0.83      0.97      0.89        30\n",
      "             travel_alert       0.93      0.90      0.92        30\n",
      "             damaged_card       0.59      0.90      0.71        30\n",
      "                flip_coin       0.97      1.00      0.98        30\n",
      "    restaurant_suggestion       0.51      0.87      0.64        30\n",
      "              min_payment       0.94      1.00      0.97        30\n",
      "                  balance       0.95      0.67      0.78        30\n",
      "   measurement_conversion       0.60      0.93      0.73        30\n",
      "                       w2       1.00      1.00      1.00        30\n",
      "                     uber       0.97      1.00      0.98        30\n",
      "     shopping_list_update       0.61      0.90      0.73        30\n",
      "         change_user_name       0.72      0.70      0.71        30\n",
      "               calculator       0.71      0.50      0.59        30\n",
      "             order_status       0.77      0.80      0.79        30\n",
      "                food_last       0.86      0.60      0.71        30\n",
      "           reset_settings       0.97      0.93      0.95        30\n",
      "         meeting_schedule       0.77      0.80      0.79        30\n",
      "                 timezone       1.00      0.97      0.98        30\n",
      "             order_checks       0.94      1.00      0.97        30\n",
      "         spending_history       0.74      0.77      0.75        30\n",
      "             report_fraud       0.71      0.57      0.63        30\n",
      "               jump_start       0.88      1.00      0.94        30\n",
      "                       no       0.76      0.87      0.81        30\n",
      "             who_made_you       0.70      0.93      0.80        30\n",
      "            interest_rate       0.94      0.97      0.95        30\n",
      "         report_lost_card       0.96      0.77      0.85        30\n",
      "       international_fees       1.00      0.87      0.93        30\n",
      "                   income       0.83      0.80      0.81        30\n",
      "                 reminder       0.89      0.83      0.86        30\n",
      "             change_speed       0.75      1.00      0.86        30\n",
      "           redeem_rewards       1.00      0.67      0.80        30\n",
      "          change_language       0.72      0.87      0.79        30\n",
      "             transactions       0.55      0.73      0.63        30\n",
      "     schedule_maintenance       0.79      0.87      0.83        30\n",
      "                     date       0.82      0.93      0.87        30\n",
      "                 pto_used       0.42      0.87      0.57        30\n",
      "                 spelling       0.88      0.97      0.92        30\n",
      "          meaning_of_life       0.90      0.90      0.90        30\n",
      "            flight_status       0.81      0.97      0.88        30\n",
      "             credit_limit       0.81      0.73      0.77        30\n",
      "                    maybe       0.79      0.77      0.78        30\n",
      "                    alarm       0.97      1.00      0.98        30\n",
      "             credit_score       0.87      0.90      0.89        30\n",
      "                  goodbye       0.60      0.80      0.69        30\n",
      "                     time       0.87      0.90      0.89        30\n",
      "                    order       0.66      0.83      0.74        30\n",
      "      credit_limit_change       0.87      0.87      0.87        30\n",
      "                      oos       0.85      0.29      0.43      1000\n",
      "\n",
      "                 accuracy                           0.77      5500\n",
      "                macro avg       0.80      0.87      0.82      5500\n",
      "             weighted avg       0.81      0.77      0.75      5500\n",
      "\n"
     ]
    }
   ],
   "source": [
    "print(classification_report(data.test_y, y_pred_test, target_names=classes))"
   ]
  },
  {
   "cell_type": "code",
   "execution_count": 324,
   "metadata": {},
   "outputs": [
    {
     "name": "stdout",
     "output_type": "stream",
     "text": [
      "text: NLP is fun \n",
      "intent: yes\n",
      "\n",
      "text: are you  \n",
      "intent: are_you_a_bot\n",
      "\n"
     ]
    }
   ],
   "source": [
    "sentences = [\n",
    "  \"NLP is fun\",\n",
    "  \"are you \"\n",
    "]\n",
    "\n",
    "pred_tokens = map(tokenizer.tokenize, sentences)\n",
    "pred_tokens = map(lambda tok: [\"[CLS]\"] + tok + [\"[SEP]\"], pred_tokens)\n",
    "pred_token_ids = list(map(tokenizer.convert_tokens_to_ids, pred_tokens))\n",
    "\n",
    "pred_token_ids = map(lambda tids: tids +[0]*(data.max_seq_len-len(tids)),pred_token_ids)\n",
    "pred_token_ids = np.array(list(pred_token_ids))\n",
    "\n",
    "predictions = model.predict(pred_token_ids).argmax(axis=-1)\n",
    "\n",
    "for text, label in zip(sentences, predictions):\n",
    "  print(\"text:\", text, \"\\nintent:\", classes[label])\n",
    "  print()"
   ]
  },
  {
   "cell_type": "code",
   "execution_count": null,
   "metadata": {},
   "outputs": [],
   "source": []
  }
 ],
 "metadata": {
  "kernelspec": {
   "display_name": "Python 3",
   "language": "python",
   "name": "python3"
  },
  "language_info": {
   "codemirror_mode": {
    "name": "ipython",
    "version": 3
   },
   "file_extension": ".py",
   "mimetype": "text/x-python",
   "name": "python",
   "nbconvert_exporter": "python",
   "pygments_lexer": "ipython3",
   "version": "3.8.5"
  }
 },
 "nbformat": 4,
 "nbformat_minor": 4
}
